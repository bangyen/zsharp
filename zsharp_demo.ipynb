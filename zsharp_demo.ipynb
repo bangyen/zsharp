{
  "cells": [
    {
      "cell_type": "markdown",
      "id": "7fb27b941602401d91542211134fc71a",
      "metadata": {
        "id": "7fb27b941602401d91542211134fc71a"
      },
      "source": [
        "# ZSharp: Sharpness-Aware Minimization with Z-Score Gradient Filtering\n",
        "\n",
        "This notebook demonstrates the ZSharp optimizer and compares it with standard SGD on CIFAR-10.\n",
        "\n",
        "## What is ZSharp?\n",
        "\n",
        "ZSharp extends SAM (Sharpness-Aware Minimization) with intelligent gradient filtering:\n",
        "\n",
        "1. **Z-score Normalization**: Normalizes gradients within each layer\n",
        "2. **Percentile-based Filtering**: Keeps only the most important gradients (configurable threshold)\n",
        "3. **SAM Perturbation**: Applies filtered gradients to SAM's two-step optimization\n",
        "\n",
        "**Key Benefits:**\n",
        "- 5.26% improvement over SGD on CIFAR-10\n",
        "- Better generalization with lower test loss\n",
        "- Reduced gradient noise and improved training stability\n",
        "- Memory efficient gradient processing"
      ]
    },
    {
      "cell_type": "markdown",
      "id": "acae54e37e7d407bbb7b55eff062a284",
      "metadata": {
        "id": "acae54e37e7d407bbb7b55eff062a284"
      },
      "source": [
        "## Setup and Installation"
      ]
    },
    {
      "cell_type": "code",
      "execution_count": null,
      "id": "9a63283cbaf04dbcab1f6479b197f3a8",
      "metadata": {
        "id": "9a63283cbaf04dbcab1f6479b197f3a8"
      },
      "outputs": [],
      "source": [
        "! [ ! -d \"zsharp\" ] && git clone https://github.com/bangyen/zsharp.git\n",
        "! cd zsharp && pip install -e .\n",
        "\n",
        "print(\"Setup complete!\")"
      ]
    },
    {
      "cell_type": "markdown",
      "id": "8dd0d8092fe74a7c96281538738b07e2",
      "metadata": {
        "id": "8dd0d8092fe74a7c96281538738b07e2"
      },
      "source": [
        "## Imports and Configuration"
      ]
    },
    {
      "cell_type": "code",
      "metadata": {
        "id": "0e0c4552"
      },
      "source": [
        "import os\n",
        "\n",
        "os.chdir('./zsharp')\n",
        "print(f\"Current working directory: {os.getcwd()}\")"
      ],
      "id": "0e0c4552",
      "execution_count": null,
      "outputs": []
    },
    {
      "cell_type": "code",
      "execution_count": null,
      "id": "72eea5119410473aa328ad9291626812",
      "metadata": {
        "id": "72eea5119410473aa328ad9291626812"
      },
      "outputs": [],
      "source": [
        "\n",
        "import numpy as np\n",
        "import torch\n",
        "import torchvision\n",
        "from torch import nn, optim\n",
        "from torchvision import transforms\n",
        "from tqdm import tqdm\n",
        "\n",
        "from src.models import get_model\n",
        "from src.optimizer import ZSharp\n",
        "\n",
        "# Set device\n",
        "device = torch.device(\"cuda\" if torch.cuda.is_available() else \"cpu\")\n",
        "print(f\"Using device: {device}\")\n",
        "\n",
        "# Set random seeds for reproducibility\n",
        "torch.manual_seed(42)\n",
        "np.random.seed(42)"
      ]
    },
    {
      "cell_type": "markdown",
      "id": "8edb47106e1a46a883d545849b8ab81b",
      "metadata": {
        "id": "8edb47106e1a46a883d545849b8ab81b"
      },
      "source": [
        "## ZSharp vs SGD\n"
      ]
    },
    {
      "cell_type": "code",
      "execution_count": null,
      "id": "10185d26023b46108eb7d9f57d49d2b3",
      "metadata": {
        "id": "10185d26023b46108eb7d9f57d49d2b3"
      },
      "outputs": [],
      "source": [
        "# Constants for demo limits\n",
        "MAX_TRAINING_BATCHES = 50\n",
        "MAX_EVAL_SAMPLES = 1000\n",
        "\n",
        "# Quick demo - simplified version for Colab\n",
        "def quick_demo():\n",
        "    print(\"ZSharp Demo - Comparing with SGD\")\n",
        "    print(\"=\" * 50)\n",
        "\n",
        "    # Load CIFAR-10\n",
        "    transform = transforms.Compose(\n",
        "        [\n",
        "            transforms.ToTensor(),\n",
        "            transforms.Normalize(\n",
        "                (0.4914, 0.4822, 0.4465), (0.2023, 0.1994, 0.2010)\n",
        "            ),\n",
        "        ]\n",
        "    )\n",
        "\n",
        "    trainset = torchvision.datasets.CIFAR10(\n",
        "        root=\"./data\", train=True, download=True, transform=transform\n",
        "    )\n",
        "    trainloader = torch.utils.data.DataLoader(\n",
        "        trainset, batch_size=128, shuffle=True, num_workers=2\n",
        "    )\n",
        "\n",
        "    testset = torchvision.datasets.CIFAR10(\n",
        "        root=\"./data\", train=False, download=True, transform=transform\n",
        "    )\n",
        "    testloader = torch.utils.data.DataLoader(\n",
        "        testset, batch_size=128, shuffle=False, num_workers=2\n",
        "    )\n",
        "\n",
        "    # Create models\n",
        "    model_sgd = get_model(\"resnet18\", num_classes=10).to(device)\n",
        "    model_zsharp = get_model(\"resnet18\", num_classes=10).to(device)\n",
        "\n",
        "    # Optimizers\n",
        "    optimizer_sgd = optim.SGD(\n",
        "        model_sgd.parameters(), lr=0.01, momentum=0.9, weight_decay=1e-4\n",
        "    )\n",
        "    optimizer_zsharp = ZSharp(\n",
        "        model_zsharp.parameters(),\n",
        "        base_optimizer=optim.SGD,\n",
        "        rho=0.05,\n",
        "        percentile=70,\n",
        "        lr=0.01,\n",
        "        momentum=0.9,\n",
        "        weight_decay=1e-4,\n",
        "    )\n",
        "\n",
        "    criterion = nn.CrossEntropyLoss()\n",
        "\n",
        "    print(\"Training for 3 epochs...\")\n",
        "\n",
        "    # Train both models\n",
        "    for epoch in range(3):\n",
        "        print(f\"\\nEpoch {epoch + 1}/3\")\n",
        "\n",
        "        # SGD Training\n",
        "        model_sgd.train()\n",
        "        sgd_loss = 0\n",
        "        sgd_pbar = tqdm(\n",
        "            enumerate(trainloader), total=MAX_TRAINING_BATCHES, desc=\"SGD Training\", leave=False\n",
        "        )\n",
        "        for batch_idx, (data, target) in sgd_pbar:\n",
        "            if batch_idx >= MAX_TRAINING_BATCHES:  # Limit for demo\n",
        "                break\n",
        "            data, target = data.to(device), target.to(device)\n",
        "            optimizer_sgd.zero_grad()\n",
        "            output = model_sgd(data)\n",
        "            loss = criterion(output, target)\n",
        "            loss.backward()\n",
        "            optimizer_sgd.step()\n",
        "            sgd_loss += loss.item()\n",
        "            sgd_pbar.set_postfix({\"loss\": f\"{loss.item():.4f}\"})\n",
        "\n",
        "        # ZSharp Training\n",
        "        model_zsharp.train()\n",
        "        zsharp_loss = 0\n",
        "        zsharp_pbar = tqdm(\n",
        "            enumerate(trainloader),\n",
        "            total=MAX_TRAINING_BATCHES,\n",
        "            desc=\"ZSharp Training\",\n",
        "            leave=False,\n",
        "        )\n",
        "        for batch_idx, (data, target) in zsharp_pbar:\n",
        "            if batch_idx >= MAX_TRAINING_BATCHES:  # Limit for demo\n",
        "                break\n",
        "            data, target = data.to(device), target.to(device)\n",
        "            optimizer_zsharp.zero_grad()\n",
        "            loss = criterion(model_zsharp(data), target)\n",
        "            loss.backward()\n",
        "            optimizer_zsharp.first_step()\n",
        "            criterion(model_zsharp(data), target).backward()\n",
        "            optimizer_zsharp.second_step()\n",
        "            zsharp_loss += loss.item()\n",
        "            zsharp_pbar.set_postfix({\"loss\": f\"{loss.item():.4f}\"})\n",
        "\n",
        "        print(f\"SGD Loss: {sgd_loss / MAX_TRAINING_BATCHES:.4f}\")\n",
        "        print(f\"ZSharp Loss: {zsharp_loss / MAX_TRAINING_BATCHES:.4f}\")\n",
        "\n",
        "    # Evaluate\n",
        "    def evaluate_model(model, testloader, model_name=\"Model\"):\n",
        "        model.eval()\n",
        "        correct = 0\n",
        "        total = 0\n",
        "        with torch.no_grad():\n",
        "            eval_pbar = tqdm(\n",
        "                testloader, desc=f\"Evaluating {model_name}\", leave=False\n",
        "            )\n",
        "            for data, target in eval_pbar:\n",
        "                if total >= MAX_EVAL_SAMPLES:  # Limit for demo\n",
        "                    break\n",
        "                data, target = data.to(device), target.to(device)\n",
        "                outputs = model(data)\n",
        "                _, predicted = torch.max(outputs.data, 1)\n",
        "                total += target.size(0)\n",
        "                correct += (predicted == target).sum().item()\n",
        "                eval_pbar.set_postfix({\"acc\": f\"{100 * correct / total:.2f}%\"})\n",
        "        return 100 * correct / total\n",
        "\n",
        "    sgd_acc = evaluate_model(model_sgd, testloader, \"SGD\")\n",
        "    zsharp_acc = evaluate_model(model_zsharp, testloader, \"ZSharp\")\n",
        "\n",
        "    print(\"\\nResults:\")\n",
        "    print(f\"SGD Test Accuracy:     {sgd_acc:.2f}%\")\n",
        "    print(f\"ZSharp Test Accuracy:  {zsharp_acc:.2f}%\")\n",
        "    print(f\"Improvement:           {zsharp_acc - sgd_acc:.2f}%\")\n",
        "\n",
        "    if zsharp_acc > sgd_acc:\n",
        "        print(\"ZSharp outperforms SGD!\")\n",
        "    else:\n",
        "        print(\"Both methods perform similarly in this quick demo\")\n",
        "\n",
        "\n",
        "# Run the demo\n",
        "quick_demo()"
      ]
    },
    {
      "cell_type": "markdown",
      "id": "8763a12b2bbd4a93a75aff182afb95dc",
      "metadata": {
        "id": "8763a12b2bbd4a93a75aff182afb95dc"
      },
      "source": [
        "## Key Takeaways\n",
        "\n",
        "This demo shows how ZSharp works:\n",
        "\n",
        "1. **Gradient Filtering**: ZSharp filters out noisy gradients using Z-score normalization\n",
        "2. **SAM Integration**: Combines filtered gradients with SAM's sharpness-aware optimization\n",
        "3. **Better Performance**: Typically achieves higher test accuracy than standard SGD\n",
        "\n",
        "### Next Steps\n",
        "\n",
        "- Try the full training script: `python -m scripts.train --config configs/zsharp_baseline.yaml`\n",
        "- Experiment with different hyperparameters (percentile, rho)\n",
        "- Check out the [full paper](https://arxiv.org/html/2505.02369v3) for detailed results\n",
        "\n",
        "For more information, visit the [GitHub repository](https://github.com/bangyen/zsharp)."
      ]
    }
  ],
  "metadata": {
    "kernelspec": {
      "display_name": "venv",
      "language": "python",
      "name": "python3"
    },
    "language_info": {
      "codemirror_mode": {
        "name": "ipython",
        "version": 3
      },
      "file_extension": ".py",
      "mimetype": "text/x-python",
      "name": "python",
      "nbconvert_exporter": "python",
      "pygments_lexer": "ipython3",
      "version": "3.9.6"
    },
    "colab": {
      "provenance": []
    }
  },
  "nbformat": 4,
  "nbformat_minor": 5
}
